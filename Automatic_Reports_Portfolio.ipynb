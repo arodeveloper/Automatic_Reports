{
  "nbformat": 4,
  "nbformat_minor": 0,
  "metadata": {
    "colab": {
      "provenance": []
    },
    "kernelspec": {
      "name": "python3",
      "display_name": "Python 3"
    },
    "language_info": {
      "name": "python"
    }
  },
  "cells": [
    {
      "cell_type": "markdown",
      "source": [
        "# **Program to Generate Automatic Reports**"
      ],
      "metadata": {
        "id": "TN2sImjujiJ2"
      }
    },
    {
      "cell_type": "markdown",
      "source": [
        "# April 11th 2024"
      ],
      "metadata": {
        "id": "6kK9FRo0yn7P"
      }
    },
    {
      "cell_type": "markdown",
      "source": [
        "The origin of why I decided to make this program started when I entered my current job. I currently work for a call center in a sales account. We work from home, but my supervisor is very busy doing different tasks along the day while taking care of her child. I performed very well for many months that she provided me with the honor to be a Subject Matter Expert (abbreviated as \"SME\") for my team. She wanted for me to make some update reports so our team can see their performance in their sales and other metrics. The way she and other SME's were doing these reports takes a considerable amount of time. They received the reports through email, downloaded the two CSV files the report contained, uploaded them on Google Drive and then they copied and pasted all the values they needed in a sheet. I wanted to put in practice the skills I'm currently learning through my Data Analysis path, so I decided to do this program to make our life easier."
      ],
      "metadata": {
        "id": "4glGNMdOkEEz"
      }
    },
    {
      "cell_type": "markdown",
      "source": [
        "I'm using a PC provided by the company, so of course, it has its restrictions, so I decided to use Google Colab to make the program without the need to download an IDE like Jupyter Notebook. I was able to make this program while having some idle time between calls and started to make some changes along the way. Before making the program, I thought on using Pandas and Seaborn, but then I realized that Seaborn was not necessary for this task, so I decided to only keep Pandas."
      ],
      "metadata": {
        "id": "zCPRGKEHwRKW"
      }
    },
    {
      "cell_type": "markdown",
      "source": [
        "With the first version of this program, the output only showed the names and the total revenue that each agent generated since I was only using one of the CSV files, but then, one of my colleagues asked about how many sales they have done during that time (the amount of sales we do is part of our paid bonuses). So, I decided to add the feature for the program to read both CSV files that are sent by our higher ups and to merge them into one table. I had some issues trying to hide the indexes of the elements and putting some colors in the program, but in the end, I was able to finish the program in a way I was satisfied with its presentation."
      ],
      "metadata": {
        "id": "ax8ENwujwk0h"
      }
    },
    {
      "cell_type": "markdown",
      "source": [
        "I'm very satisfied with this program. I know it's not perfect and it's not a big project, but I'm happy that I could put in practice my skills for a real world problem. Now we can generate these reports in less than a minute and present them in the team's Google Chat group. This is only the start of what it'll come in the future.  "
      ],
      "metadata": {
        "id": "GIVx2TwAwoyW"
      }
    },
    {
      "cell_type": "markdown",
      "source": [
        "# Additional Notes"
      ],
      "metadata": {
        "id": "qDmJiXv-13Nd"
      }
    },
    {
      "cell_type": "markdown",
      "source": [
        "The code in this notebook and the files used are a representation of the program I use in my job. None of these names (except mine), data or files are extracted from my work environment due to privacy purposes."
      ],
      "metadata": {
        "id": "Ibn6rASD15PX"
      }
    },
    {
      "cell_type": "markdown",
      "source": [
        "# Test CSV file links"
      ],
      "metadata": {
        "id": "8MTyzDVDxpt2"
      }
    },
    {
      "cell_type": "markdown",
      "source": [
        "\n",
        "\n",
        "*   [Most Recent Activity Report](https://drive.google.com/file/d/1Xaq_FQehui1VLlF1LtSAb_t1KCPs6KgC/view?usp=drive_link)\n",
        "*   [Most Recent Sales Report](https://drive.google.com/file/d/11KvJzUUkqtdRusq271gcUdTP1hDr0UOv/view?usp=drive_link)\n",
        "\n"
      ],
      "metadata": {
        "id": "KivBJCwqyJWH"
      }
    },
    {
      "cell_type": "markdown",
      "source": [
        "# Output"
      ],
      "metadata": {
        "id": "J3PbitnMy0rV"
      }
    },
    {
      "cell_type": "markdown",
      "source": [
        "![Output.png](data:image/png;base64,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)"
      ],
      "metadata": {
        "id": "xVOaIJoIzNmW"
      }
    },
    {
      "cell_type": "markdown",
      "source": [
        "# Code"
      ],
      "metadata": {
        "id": "aIOnkYgByewu"
      }
    },
    {
      "cell_type": "code",
      "execution_count": 4,
      "metadata": {
        "id": "2mF-FYnC8Zus",
        "colab": {
          "base_uri": "https://localhost:8080/",
          "height": 405
        },
        "outputId": "2b464e1f-0a1c-4eb3-ea09-6f48ced8297f"
      },
      "outputs": [
        {
          "output_type": "execute_result",
          "data": {
            "text/plain": [
              "<pandas.io.formats.style.Styler at 0x7faa74b42aa0>"
            ],
            "text/html": [
              "<style type=\"text/css\">\n",
              "#T_32c37 thead th {\n",
              "  background-color: yellow;\n",
              "  color: black;\n",
              "  font-weight: bold;\n",
              "}\n",
              "#T_32c37 tr:not(:last-child) {\n",
              "  background-color: white;\n",
              "  color: black;\n",
              "  font-weight: normal;\n",
              "}\n",
              "#T_32c37 tr:last-child {\n",
              "  background-color: green;\n",
              "  color: black;\n",
              "  font-weight: bold;\n",
              "}\n",
              "#T_32c37_row0_col0, #T_32c37_row0_col1, #T_32c37_row0_col2, #T_32c37_row0_col3, #T_32c37_row1_col0, #T_32c37_row1_col1, #T_32c37_row1_col2, #T_32c37_row1_col3, #T_32c37_row2_col0, #T_32c37_row2_col1, #T_32c37_row2_col2, #T_32c37_row2_col3, #T_32c37_row3_col0, #T_32c37_row3_col1, #T_32c37_row3_col2, #T_32c37_row3_col3, #T_32c37_row4_col0, #T_32c37_row4_col1, #T_32c37_row4_col2, #T_32c37_row4_col3, #T_32c37_row5_col0, #T_32c37_row5_col1, #T_32c37_row5_col2, #T_32c37_row5_col3, #T_32c37_row6_col0, #T_32c37_row6_col1, #T_32c37_row6_col2, #T_32c37_row6_col3, #T_32c37_row7_col0, #T_32c37_row7_col1, #T_32c37_row7_col2, #T_32c37_row7_col3, #T_32c37_row8_col0, #T_32c37_row8_col1, #T_32c37_row8_col2, #T_32c37_row8_col3, #T_32c37_row9_col0, #T_32c37_row9_col1, #T_32c37_row9_col2, #T_32c37_row9_col3, #T_32c37_row10_col0, #T_32c37_row10_col1, #T_32c37_row10_col2, #T_32c37_row10_col3 {\n",
              "  border-collapse: collapse;\n",
              "  border: 1px solid black;\n",
              "}\n",
              "</style>\n",
              "<table id=\"T_32c37\" class=\"dataframe\">\n",
              "  <thead>\n",
              "    <tr>\n",
              "      <th id=\"T_32c37_level0_col0\" class=\"col_heading level0 col0\" >Agents Name</th>\n",
              "      <th id=\"T_32c37_level0_col1\" class=\"col_heading level0 col1\" >Big Sales</th>\n",
              "      <th id=\"T_32c37_level0_col2\" class=\"col_heading level0 col2\" >Total Sales</th>\n",
              "      <th id=\"T_32c37_level0_col3\" class=\"col_heading level0 col3\" >Total Revenue</th>\n",
              "    </tr>\n",
              "  </thead>\n",
              "  <tbody>\n",
              "    <tr>\n",
              "      <td id=\"T_32c37_row0_col0\" class=\"data row0 col0\" >Aiden Pierce</td>\n",
              "      <td id=\"T_32c37_row0_col1\" class=\"data row0 col1\" >2</td>\n",
              "      <td id=\"T_32c37_row0_col2\" class=\"data row0 col2\" >10</td>\n",
              "      <td id=\"T_32c37_row0_col3\" class=\"data row0 col3\" >$54.63</td>\n",
              "    </tr>\n",
              "    <tr>\n",
              "      <td id=\"T_32c37_row1_col0\" class=\"data row1 col0\" >Arodi Sandoval</td>\n",
              "      <td id=\"T_32c37_row1_col1\" class=\"data row1 col1\" >1</td>\n",
              "      <td id=\"T_32c37_row1_col2\" class=\"data row1 col2\" >3</td>\n",
              "      <td id=\"T_32c37_row1_col3\" class=\"data row1 col3\" >$34.52</td>\n",
              "    </tr>\n",
              "    <tr>\n",
              "      <td id=\"T_32c37_row2_col0\" class=\"data row2 col0\" >Ashley Robins</td>\n",
              "      <td id=\"T_32c37_row2_col1\" class=\"data row2 col1\" >3</td>\n",
              "      <td id=\"T_32c37_row2_col2\" class=\"data row2 col2\" >5</td>\n",
              "      <td id=\"T_32c37_row2_col3\" class=\"data row2 col3\" >$250.00</td>\n",
              "    </tr>\n",
              "    <tr>\n",
              "      <td id=\"T_32c37_row3_col0\" class=\"data row3 col0\" >Fox McCloud</td>\n",
              "      <td id=\"T_32c37_row3_col1\" class=\"data row3 col1\" >0</td>\n",
              "      <td id=\"T_32c37_row3_col2\" class=\"data row3 col2\" >0</td>\n",
              "      <td id=\"T_32c37_row3_col3\" class=\"data row3 col3\" >$0.00</td>\n",
              "    </tr>\n",
              "    <tr>\n",
              "      <td id=\"T_32c37_row4_col0\" class=\"data row4 col0\" >Franklin Clinton</td>\n",
              "      <td id=\"T_32c37_row4_col1\" class=\"data row4 col1\" >0</td>\n",
              "      <td id=\"T_32c37_row4_col2\" class=\"data row4 col2\" >0</td>\n",
              "      <td id=\"T_32c37_row4_col3\" class=\"data row4 col3\" >$0.00</td>\n",
              "    </tr>\n",
              "    <tr>\n",
              "      <td id=\"T_32c37_row5_col0\" class=\"data row5 col0\" >Geralt Rivia</td>\n",
              "      <td id=\"T_32c37_row5_col1\" class=\"data row5 col1\" >1</td>\n",
              "      <td id=\"T_32c37_row5_col2\" class=\"data row5 col2\" >8</td>\n",
              "      <td id=\"T_32c37_row5_col3\" class=\"data row5 col3\" >$43.45</td>\n",
              "    </tr>\n",
              "    <tr>\n",
              "      <td id=\"T_32c37_row6_col0\" class=\"data row6 col0\" >Joel Miller</td>\n",
              "      <td id=\"T_32c37_row6_col1\" class=\"data row6 col1\" >1</td>\n",
              "      <td id=\"T_32c37_row6_col2\" class=\"data row6 col2\" >7</td>\n",
              "      <td id=\"T_32c37_row6_col3\" class=\"data row6 col3\" >$301.23</td>\n",
              "    </tr>\n",
              "    <tr>\n",
              "      <td id=\"T_32c37_row7_col0\" class=\"data row7 col0\" >John Marston</td>\n",
              "      <td id=\"T_32c37_row7_col1\" class=\"data row7 col1\" >3</td>\n",
              "      <td id=\"T_32c37_row7_col2\" class=\"data row7 col2\" >16</td>\n",
              "      <td id=\"T_32c37_row7_col3\" class=\"data row7 col3\" >$25.56</td>\n",
              "    </tr>\n",
              "    <tr>\n",
              "      <td id=\"T_32c37_row8_col0\" class=\"data row8 col0\" >John Doe</td>\n",
              "      <td id=\"T_32c37_row8_col1\" class=\"data row8 col1\" >4</td>\n",
              "      <td id=\"T_32c37_row8_col2\" class=\"data row8 col2\" >21</td>\n",
              "      <td id=\"T_32c37_row8_col3\" class=\"data row8 col3\" >$300.00</td>\n",
              "    </tr>\n",
              "    <tr>\n",
              "      <td id=\"T_32c37_row9_col0\" class=\"data row9 col0\" >Marcus Fenix</td>\n",
              "      <td id=\"T_32c37_row9_col1\" class=\"data row9 col1\" >0</td>\n",
              "      <td id=\"T_32c37_row9_col2\" class=\"data row9 col2\" >0</td>\n",
              "      <td id=\"T_32c37_row9_col3\" class=\"data row9 col3\" >$0.00</td>\n",
              "    </tr>\n",
              "    <tr>\n",
              "      <td id=\"T_32c37_row10_col0\" class=\"data row10 col0\" >Total</td>\n",
              "      <td id=\"T_32c37_row10_col1\" class=\"data row10 col1\" >15</td>\n",
              "      <td id=\"T_32c37_row10_col2\" class=\"data row10 col2\" >70</td>\n",
              "      <td id=\"T_32c37_row10_col3\" class=\"data row10 col3\" >$1009.39</td>\n",
              "    </tr>\n",
              "  </tbody>\n",
              "</table>\n"
            ]
          },
          "metadata": {},
          "execution_count": 4
        }
      ],
      "source": [
        "import pandas as pd\n",
        "\n",
        "# Reads the first CSV file\n",
        "df_activity = pd.read_csv('most_recent_activity_report.csv')\n",
        "\n",
        "# Reads the second CSV file\n",
        "df_calls_srs = pd.read_csv('most_recent_sales_report.csv')\n",
        "\n",
        "# Merge the two DataFrames on the \"Agent Full Name\" column\n",
        "merged_df = pd.merge(df_activity, df_calls_srs, on='Agent Full Name', how='left')\n",
        "\n",
        "# List of names that will be used for the report\n",
        "list_name = ['Arodi Sandoval', 'Jon Do', 'Ashley Robins', 'Jeral Riva', 'Franlin Clinon', 'Joe Milker', 'Aiden Pierce', 'Fox McCloud', 'Marcus Fenix', 'John Marston']\n",
        "\n",
        "# Filters the merged dataframe to show only the selected names and makes a new dataframe called \"filtered_df\"\n",
        "filtered_df = merged_df[merged_df['Agent Full Name'].isin(list_name)]\n",
        "\n",
        "# Columns that will be used for the report\n",
        "selected_columns = ['Agent Full Name', 'Big Sales Per Agent', 'Total Sales Per Agent', 'Financial Total Revenue']\n",
        "filtered_df = filtered_df[selected_columns]\n",
        "\n",
        "# Renames the columns\n",
        "filtered_df = filtered_df.rename(columns={'Agent Full Name': 'Agents Name',\n",
        "                                          'Big Sales Per Agent': \"Big Sales\",\n",
        "                                          'Total Sales Per Agent': \"Total Sales\",\n",
        "                                          'Financial Total Revenue': 'Total Revenue'})\n",
        "\n",
        "# Temporarily removes the dollar sign and makes the summatory of the total revenue\n",
        "filtered_df['Total Revenue'] = pd.to_numeric(filtered_df['Total Revenue'].str.replace('$', ''), errors='coerce')\n",
        "filtered_df[\"Big Sales\"] = pd.to_numeric(filtered_df[\"Big Sales\"], errors='coerce')\n",
        "filtered_df[\"Total Sales\"] = pd.to_numeric(filtered_df[\"Total Sales\"], errors='coerce')\n",
        "total = filtered_df['Total Revenue'].sum()\n",
        "\n",
        "# Create a DataFrame for the total revenue\n",
        "total_row = pd.DataFrame({'Agents Name': ['Total'], 'Total Revenue': [total]})\n",
        "\n",
        "# Calculate the sum of Big Sales and Total Sales\n",
        "total_big_sales = filtered_df[\"Big Sales\"].sum()\n",
        "total_sales = filtered_df[\"Total Sales\"].sum()\n",
        "\n",
        "# Add the sum of XS's and Total Sales to the total row\n",
        "total_row[\"Big Sales\"] = total_big_sales\n",
        "total_row[\"Total Sales\"] = total_sales\n",
        "\n",
        "# Adds the dollar sign again for aesthetic purposes\n",
        "filtered_df['Total Revenue'] = filtered_df['Total Revenue'].map('${:.2f}'.format)\n",
        "total_row['Total Revenue'] = total_row['Total Revenue'].map('${:.2f}'.format)\n",
        "\n",
        "# Concatenate the total revenue row with the filtered_df\n",
        "filtered_df = pd.concat([filtered_df, total_row])\n",
        "\n",
        "# Renames some agent names that are incorrect\n",
        "filtered_df.loc[filtered_df['Agents Name'] == 'Jon Do', 'Agents Name'] = 'John Doe'\n",
        "filtered_df.loc[filtered_df['Agents Name'] == 'Jeral Riva', 'Agents Name'] = 'Geralt Rivia'\n",
        "filtered_df.loc[filtered_df['Agents Name'] == 'Franlin Clinon', 'Agents Name'] = 'Franklin Clinton'\n",
        "filtered_df.loc[filtered_df['Agents Name'] == 'Joe Milker', 'Agents Name'] = 'Joel Miller'\n",
        "\n",
        "# Define the style for the header\n",
        "header_style = {\n",
        "    'selector': 'thead th',\n",
        "    'props': [\n",
        "        ('background-color', 'yellow'),\n",
        "        ('color', 'black'),\n",
        "        ('font-weight', 'bold'),\n",
        "    ]\n",
        "}\n",
        "\n",
        "# Define the style for elements between the header and the last index\n",
        "normal_style = {\n",
        "    'selector': 'tr:not(:last-child)',\n",
        "    'props': [\n",
        "        ('background-color', 'white'),\n",
        "        ('color', 'black'),\n",
        "        ('font-weight', 'normal'),\n",
        "    ]\n",
        "}\n",
        "\n",
        "# Define the style for the last row\n",
        "last_row_style = {\n",
        "    'selector': 'tr:last-child',\n",
        "    'props': [\n",
        "        ('background-color', 'green'),\n",
        "        ('color', 'black'),\n",
        "        ('font-weight', 'bold'),\n",
        "    ]\n",
        "}\n",
        "\n",
        "# Apply the styles to the DataFrame and set grid properties\n",
        "styled_df = filtered_df.reset_index(drop=True).style.set_table_styles([header_style, normal_style, last_row_style]).set_properties(**{'border-collapse': 'collapse', 'border': '1px solid black'}).hide()\n",
        "\n",
        "# Display the styled DataFrame\n",
        "styled_df\n"
      ]
    }
  ]
}